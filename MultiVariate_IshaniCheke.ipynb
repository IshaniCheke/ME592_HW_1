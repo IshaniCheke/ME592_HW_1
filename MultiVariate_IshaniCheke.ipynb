{
 "cells": [
  {
   "cell_type": "code",
   "execution_count": 2,
   "metadata": {
    "id": "GPhD62WPQKIo"
   },
   "outputs": [],
   "source": [
    "import pandas as pd\n",
    "import numpy as np\n",
    "import scipy.stats as stats"
   ]
  },
  {
   "cell_type": "code",
   "execution_count": 3,
   "metadata": {
    "id": "Zt3Hs0UPQSnR"
   },
   "outputs": [],
   "source": [
    "\n",
    "data_url = \"https://archive.ics.uci.edu/ml/machine-learning-databases/00291/airfoil_self_noise.dat\"\n",
    "columns = [\"Frequency_Hz\", \"Angle_of_Attack\", \"Chord_Length_m\", \"Free_Stream_Velocity_m_s\", \"Suction_Side_Displacement_Thickness_m\", \"Scaled_Sound_Pressure_Level_dB\"]\n",
    "df = pd.read_csv(data_url, sep='\\t', header=None, names=columns, engine='python')\n"
   ]
  },
  {
   "cell_type": "code",
   "execution_count": 4,
   "metadata": {
    "colab": {
     "base_uri": "https://localhost:8080/",
     "height": 237
    },
    "id": "snjQPvDJQWTo",
    "outputId": "8cc6afaf-b8d2-4b50-f948-b0dc320ce757"
   },
   "outputs": [
    {
     "data": {
      "text/html": [
       "<div>\n",
       "<style scoped>\n",
       "    .dataframe tbody tr th:only-of-type {\n",
       "        vertical-align: middle;\n",
       "    }\n",
       "\n",
       "    .dataframe tbody tr th {\n",
       "        vertical-align: top;\n",
       "    }\n",
       "\n",
       "    .dataframe thead th {\n",
       "        text-align: right;\n",
       "    }\n",
       "</style>\n",
       "<table border=\"1\" class=\"dataframe\">\n",
       "  <thead>\n",
       "    <tr style=\"text-align: right;\">\n",
       "      <th></th>\n",
       "      <th>Mean</th>\n",
       "      <th>Variance</th>\n",
       "      <th>Standard Deviation</th>\n",
       "      <th>Median</th>\n",
       "      <th>Kurtosis</th>\n",
       "      <th>Skewness</th>\n",
       "      <th>Range</th>\n",
       "    </tr>\n",
       "  </thead>\n",
       "  <tbody>\n",
       "    <tr>\n",
       "      <th>Frequency_Hz</th>\n",
       "      <td>2886.380572</td>\n",
       "      <td>9.938717e+06</td>\n",
       "      <td>3152.573137</td>\n",
       "      <td>1600.000000</td>\n",
       "      <td>5.708685</td>\n",
       "      <td>2.137084</td>\n",
       "      <td>19800.000000</td>\n",
       "    </tr>\n",
       "    <tr>\n",
       "      <th>Angle_of_Attack</th>\n",
       "      <td>6.782302</td>\n",
       "      <td>3.502424e+01</td>\n",
       "      <td>5.918128</td>\n",
       "      <td>5.400000</td>\n",
       "      <td>-0.412951</td>\n",
       "      <td>0.689164</td>\n",
       "      <td>22.200000</td>\n",
       "    </tr>\n",
       "    <tr>\n",
       "      <th>Chord_Length_m</th>\n",
       "      <td>0.136548</td>\n",
       "      <td>8.749868e-03</td>\n",
       "      <td>0.093541</td>\n",
       "      <td>0.101600</td>\n",
       "      <td>-1.037964</td>\n",
       "      <td>0.457457</td>\n",
       "      <td>0.279400</td>\n",
       "    </tr>\n",
       "    <tr>\n",
       "      <th>Free_Stream_Velocity_m_s</th>\n",
       "      <td>50.860745</td>\n",
       "      <td>2.425116e+02</td>\n",
       "      <td>15.572784</td>\n",
       "      <td>39.600000</td>\n",
       "      <td>-1.563951</td>\n",
       "      <td>0.235852</td>\n",
       "      <td>39.600000</td>\n",
       "    </tr>\n",
       "    <tr>\n",
       "      <th>Suction_Side_Displacement_Thickness_m</th>\n",
       "      <td>0.011140</td>\n",
       "      <td>1.729287e-04</td>\n",
       "      <td>0.013150</td>\n",
       "      <td>0.004957</td>\n",
       "      <td>2.218903</td>\n",
       "      <td>1.702165</td>\n",
       "      <td>0.058011</td>\n",
       "    </tr>\n",
       "    <tr>\n",
       "      <th>Scaled_Sound_Pressure_Level_dB</th>\n",
       "      <td>124.835943</td>\n",
       "      <td>4.759146e+01</td>\n",
       "      <td>6.898657</td>\n",
       "      <td>125.721000</td>\n",
       "      <td>-0.314187</td>\n",
       "      <td>-0.418952</td>\n",
       "      <td>37.607000</td>\n",
       "    </tr>\n",
       "  </tbody>\n",
       "</table>\n",
       "</div>"
      ],
      "text/plain": [
       "                                              Mean      Variance  \\\n",
       "Frequency_Hz                           2886.380572  9.938717e+06   \n",
       "Angle_of_Attack                           6.782302  3.502424e+01   \n",
       "Chord_Length_m                            0.136548  8.749868e-03   \n",
       "Free_Stream_Velocity_m_s                 50.860745  2.425116e+02   \n",
       "Suction_Side_Displacement_Thickness_m     0.011140  1.729287e-04   \n",
       "Scaled_Sound_Pressure_Level_dB          124.835943  4.759146e+01   \n",
       "\n",
       "                                       Standard Deviation       Median  \\\n",
       "Frequency_Hz                                  3152.573137  1600.000000   \n",
       "Angle_of_Attack                                  5.918128     5.400000   \n",
       "Chord_Length_m                                   0.093541     0.101600   \n",
       "Free_Stream_Velocity_m_s                        15.572784    39.600000   \n",
       "Suction_Side_Displacement_Thickness_m            0.013150     0.004957   \n",
       "Scaled_Sound_Pressure_Level_dB                   6.898657   125.721000   \n",
       "\n",
       "                                       Kurtosis  Skewness         Range  \n",
       "Frequency_Hz                           5.708685  2.137084  19800.000000  \n",
       "Angle_of_Attack                       -0.412951  0.689164     22.200000  \n",
       "Chord_Length_m                        -1.037964  0.457457      0.279400  \n",
       "Free_Stream_Velocity_m_s              -1.563951  0.235852     39.600000  \n",
       "Suction_Side_Displacement_Thickness_m  2.218903  1.702165      0.058011  \n",
       "Scaled_Sound_Pressure_Level_dB        -0.314187 -0.418952     37.607000  "
      ]
     },
     "metadata": {},
     "output_type": "display_data"
    }
   ],
   "source": [
    "# Mean\n",
    "mean_val = df.mean()\n",
    "\n",
    "# Variance and Standard Deviation\n",
    "variance_val = df.var()\n",
    "std_dev_val = df.std()\n",
    "\n",
    "# Median\n",
    "median_val = df.median()\n",
    "\n",
    "# Kurtosis\n",
    "kurtosis_val = df.kurtosis()\n",
    "\n",
    "# Skewness\n",
    "skewness_val = df.skew()\n",
    "\n",
    "# Range\n",
    "range_val = df.max() - df.min()\n",
    "\n",
    "\n",
    "statistics_df = pd.DataFrame({\n",
    "    \"Mean\": mean_val,\n",
    "    \"Variance\": variance_val,\n",
    "    \"Standard Deviation\": std_dev_val,\n",
    "    \"Median\": median_val,\n",
    "    \"Kurtosis\": kurtosis_val,\n",
    "    \"Skewness\": skewness_val,\n",
    "    \"Range\": range_val\n",
    "})\n",
    "\n",
    "display(statistics_df)"
   ]
  },
  {
   "cell_type": "code",
   "execution_count": 5,
   "metadata": {
    "colab": {
     "base_uri": "https://localhost:8080/"
    },
    "id": "qZI1DaHlQYTg",
    "outputId": "ec46244e-cceb-4606-9d83-653f8989c464"
   },
   "outputs": [
    {
     "name": "stdout",
     "output_type": "stream",
     "text": [
      "                                              Mean      Variance  \\\n",
      "Frequency_Hz                           2886.380572  9.938717e+06   \n",
      "Angle_of_Attack                           6.782302  3.502424e+01   \n",
      "Chord_Length_m                            0.136548  8.749868e-03   \n",
      "Free_Stream_Velocity_m_s                 50.860745  2.425116e+02   \n",
      "Suction_Side_Displacement_Thickness_m     0.011140  1.729287e-04   \n",
      "\n",
      "                                       Standard Deviation       Median  \\\n",
      "Frequency_Hz                                  3152.573137  1600.000000   \n",
      "Angle_of_Attack                                  5.918128     5.400000   \n",
      "Chord_Length_m                                   0.093541     0.101600   \n",
      "Free_Stream_Velocity_m_s                        15.572784    39.600000   \n",
      "Suction_Side_Displacement_Thickness_m            0.013150     0.004957   \n",
      "\n",
      "                                       Kurtosis  Skewness         Range  \n",
      "Frequency_Hz                           5.708685  2.137084  19800.000000  \n",
      "Angle_of_Attack                       -0.412951  0.689164     22.200000  \n",
      "Chord_Length_m                        -1.037964  0.457457      0.279400  \n",
      "Free_Stream_Velocity_m_s              -1.563951  0.235852     39.600000  \n",
      "Suction_Side_Displacement_Thickness_m  2.218903  1.702165      0.058011  \n"
     ]
    }
   ],
   "source": [
    "print(statistics_df.head())"
   ]
  },
  {
   "cell_type": "code",
   "execution_count": null,
   "metadata": {},
   "outputs": [],
   "source": []
  }
 ],
 "metadata": {
  "colab": {
   "provenance": []
  },
  "kernelspec": {
   "display_name": "Python 3 (ipykernel)",
   "language": "python",
   "name": "python3"
  },
  "language_info": {
   "codemirror_mode": {
    "name": "ipython",
    "version": 3
   },
   "file_extension": ".py",
   "mimetype": "text/x-python",
   "name": "python",
   "nbconvert_exporter": "python",
   "pygments_lexer": "ipython3",
   "version": "3.10.16"
  }
 },
 "nbformat": 4,
 "nbformat_minor": 4
}
